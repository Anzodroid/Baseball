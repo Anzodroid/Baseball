{
 "cells": [
  {
   "cell_type": "code",
   "execution_count": 1,
   "id": "2ba1ea2b-f969-43ed-8a2c-e069097ff280",
   "metadata": {},
   "outputs": [],
   "source": [
    "import requests\n",
    "import pandas\n",
    "import numpy as np\n",
    "from io import StringIO\n",
    "Year = \"2024\""
   ]
  },
  {
   "cell_type": "code",
   "execution_count": 2,
   "id": "2e285d30-b84b-46ab-b608-3d17fd4fc767",
   "metadata": {},
   "outputs": [],
   "source": [
    "#Data Source (Web)\n",
    "r_Roster = requests.get(\"https://npb.jp/bis/eng/teams/rst_g.html\")\n",
    "r_Bat = requests.get(\"http://npb.jp/bis/eng/\"+Year+\"/stats/idb1_g.html\")\n",
    "r_Pitch = requests.get(\"http://npb.jp/bis/eng/\"+Year+\"/stats/idp1_g.html\")\n",
    "r_BR_Giants = requests.get(\"https://www.baseball-reference.com/register/team.cgi?id=e1b4d4c9\")\n",
    "# Note : Baseball Register URLs need to be updated each year. \n",
    "r_BR_Central = requests.get(\"https://www.baseball-reference.com/register/league.cgi?id=5e1f8b77\")"
   ]
  },
  {
   "cell_type": "code",
   "execution_count": 3,
   "id": "51db6ce5-ddf4-450d-a3e8-84c44ce580e4",
   "metadata": {},
   "outputs": [],
   "source": [
    "# CENTRAL BR DATA\n",
    "dfs2 = pandas.read_html(StringIO(r_BR_Central.text))"
   ]
  },
  {
   "cell_type": "code",
   "execution_count": 4,
   "id": "fb0180f7-8043-4525-89b3-3bba4b6cad4b",
   "metadata": {},
   "outputs": [
    {
     "name": "stdout",
     "output_type": "stream",
     "text": [
      "[                   Tm   W   L  Ties   W-L%   GB\n",
      "0      Hanshin Tigers  24  18     4  0.571   --\n",
      "1      Hiroshima Carp  20  17     4  0.541  1.5\n",
      "2      Yomiuri Giants  22  20     4  0.524    2\n",
      "3  Yokohama Bay Stars  21  22     1  0.488  3.5\n",
      "4    Chunichi Dragons  18  22     5  0.450    5\n",
      "5     Yakult Swallows  18  24     2  0.429    6]\n"
     ]
    }
   ],
   "source": [
    "print (dfs2)"
   ]
  },
  {
   "cell_type": "code",
   "execution_count": null,
   "id": "8b3f3a08-4546-4a75-90fe-ff134aae8a52",
   "metadata": {},
   "outputs": [],
   "source": []
  },
  {
   "cell_type": "code",
   "execution_count": null,
   "id": "0d1ba9d5-17fc-4a76-ada9-d6a25a46a834",
   "metadata": {},
   "outputs": [],
   "source": []
  },
  {
   "cell_type": "code",
   "execution_count": 5,
   "id": "12e8be86-db9e-482d-b68a-c9353dbef4db",
   "metadata": {},
   "outputs": [
    {
     "name": "stdout",
     "output_type": "stream",
     "text": [
      "                 Team   W   L  D    PCT   GB\n",
      "0      Hanshin Tigers  24  18  4  0.571   --\n",
      "1      Hiroshima Carp  20  17  4  0.541  1.5\n",
      "2      Yomiuri Giants  22  20  4  0.524    2\n",
      "3  Yokohama Bay Stars  21  22  1  0.488  3.5\n",
      "4    Chunichi Dragons  18  22  5  0.450    5\n",
      "5     Yakult Swallows  18  24  2  0.429    6\n"
     ]
    }
   ],
   "source": [
    "# CENTRAL BR DATA\n",
    "# dfs2 = pandas.read_html(StringIO(string2))\n",
    "Standings = dfs2[0]\n",
    "Standings.rename(columns={ Standings.columns[0]: \"Team\" }, inplace = True)\n",
    "Standings.rename(columns={ Standings.columns[3]: \"D\" }, inplace = True)\n",
    "Standings.rename(columns={ Standings.columns[4]: \"PCT\" }, inplace = True)\n",
    "print (Standings)"
   ]
  },
  {
   "cell_type": "code",
   "execution_count": null,
   "id": "5c73d022-2e7a-4e78-988a-e0492295d4ba",
   "metadata": {},
   "outputs": [],
   "source": []
  },
  {
   "cell_type": "code",
   "execution_count": 6,
   "id": "75ca4129-9310-4215-b5ea-e8f9919290ba",
   "metadata": {},
   "outputs": [
    {
     "name": "stdout",
     "output_type": "stream",
     "text": [
      "                 Team  BatAge   R/G    G    PA    AB    R     H   2B  3B  ...  \\\n",
      "0     Yakult Swallows    28.7  3.66   44  1683  1450  161   352   43   3  ...   \n",
      "1  Yokohama Bay Stars    28.1  3.18   44  1621  1461  140   354   69   5  ...   \n",
      "2      Hanshin Tigers    27.7  3.15   46  1706  1488  145   333   50   3  ...   \n",
      "3      Hiroshima Carp    29.1  2.85   41  1472  1351  117   321   46   8  ...   \n",
      "4    Chunichi Dragons    28.1  2.67   45  1702  1545  120   370   51   6  ...   \n",
      "5      Yomiuri Giants    28.5  2.41   46  1697  1497  111   344   50   7  ...   \n",
      "6       League Totals    28.4  2.98  266  9881  8792  794  2074  309  32  ...   \n",
      "\n",
      "      BA    OBP    SLG    OPS    TB  GDP  HB   SH  SF  IBB  \n",
      "0  0.243  0.318  0.343  0.661   497   35  16   48  17   15  \n",
      "1  0.242  0.304  0.337  0.642   493   34  16   17   9   15  \n",
      "2  0.224  0.303  0.306  0.609   455   42  16   32  12    6  \n",
      "3  0.238  0.283  0.326  0.609   440   29  15   29   4    8  \n",
      "4  0.240  0.289  0.317  0.607   490   24   7   40   6    7  \n",
      "5  0.230  0.298  0.313  0.611   468   32   8   42   9   11  \n",
      "6  0.236  0.300  0.323  0.623  2843  196  78  208  57   62  \n",
      "\n",
      "[7 rows x 26 columns]\n"
     ]
    }
   ],
   "source": [
    "LeagueBat = r_BR_Central.text\n",
    "LeagueBat = LeagueBat.replace (\"!--\",\"\") # replace !-- with \"\" not sure why but strange formatting when inspecting page. \n",
    "\n",
    "dfs = pandas.read_html(StringIO(LeagueBat))\n",
    "CLBat = dfs[1]\n",
    "del CLBat['Aff'] # delete affiliated team (1st column)\n",
    "CLBat.rename(columns={ CLBat.columns[0]: \"Team\" }, inplace = True)\n",
    "CLBat.rename(columns={ CLBat.columns[22]: \"HB\" }, inplace = True)\n",
    "print (CLBat)"
   ]
  },
  {
   "cell_type": "code",
   "execution_count": 7,
   "id": "37b9feeb-8778-447b-a7a8-09758a46ffcf",
   "metadata": {},
   "outputs": [
    {
     "name": "stdout",
     "output_type": "stream",
     "text": [
      "                 Team  PAge   R/G    W    L    PCT   ERA   RA9    G   GS  ...  \\\n",
      "0      Hiroshima Carp  27.5  2.39   20   17  0.541  2.26  2.38   41   41  ...   \n",
      "1      Yomiuri Giants  26.7  2.48   22   20  0.524  2.32  2.49   46   46  ...   \n",
      "2      Hanshin Tigers  28.0  2.74   24   18  0.571  2.22  2.72   46   46  ...   \n",
      "3    Chunichi Dragons  27.0  3.29   18   22  0.450  2.96  3.22   45   45  ...   \n",
      "4     Yakult Swallows  28.4  3.43   18   24  0.429  3.25  3.43   44   44  ...   \n",
      "5  Yokohama Bay Stars  28.4  3.57   21   22  0.488  3.20  3.61   44   44  ...   \n",
      "6       League Totals  27.6  2.98  123  123  0.500  2.70  2.98  266  266  ...   \n",
      "\n",
      "   HB  BK  WP    BF   WHIP   H9  HR9  BB9  SO9  SO/W  \n",
      "0  19   0   4  1532  1.171  7.7  0.5  2.8  7.2  2.56  \n",
      "1  15   1   7  1646  1.061  6.9  0.5  2.7  6.2  2.32  \n",
      "2  11   2  12  1702  1.112  7.6  0.3  2.4  6.6  2.79  \n",
      "3   8   1   7  1709  1.184  7.7  0.4  3.0  7.0  2.35  \n",
      "4  10   0  10  1659  1.295  8.6  0.6  3.0  6.8  2.22  \n",
      "5  15   1   6  1633  1.233  8.2  0.6  2.9  6.6  2.25  \n",
      "6  78   5  46  9881  1.175  7.8  0.5  2.8  6.7  2.40  \n",
      "\n",
      "[7 rows x 32 columns]\n"
     ]
    }
   ],
   "source": [
    "LeaguePitch = r_BR_Central.text\n",
    "LeaguePitch = LeaguePitch.replace (\"!--\",\"\") # replace !-- with \"\" not sure why but strange formatting when inspecting page. \n",
    "# LeaguePitch = LeaguePitch.replace (\"-->\",\"\") # replace !-- with \"\" not sure why but strange formatting when inspecting page. \n",
    "\n",
    "dfs = pandas.read_html(StringIO(LeaguePitch))\n",
    "CLPitch= dfs[2]\n",
    "del CLPitch['Aff']\n",
    "CLPitch.rename(columns={ CLPitch.columns[0]: \"Team\" }, inplace = True)\n",
    "CLPitch.rename(columns={ CLPitch.columns[5]: \"PCT\" }, inplace = True)\n",
    "CLPitch.rename(columns={ CLPitch.columns[22]: \"HB\" }, inplace = True)\n",
    "print (CLPitch)"
   ]
  },
  {
   "cell_type": "code",
   "execution_count": 8,
   "id": "46711758-7cc6-4abe-9c4b-6284ee27a683",
   "metadata": {},
   "outputs": [
    {
     "name": "stdout",
     "output_type": "stream",
     "text": [
      "                 Team    G    PO     A    E   DP   Fld%  PB  \\\n",
      "0      Hiroshima Carp   41  1112   429   16   28  0.990   3   \n",
      "1      Yomiuri Giants   46  1236   535   17   43  0.990   5   \n",
      "2     Yakult Swallows   44  1188   463   19   48  0.989   3   \n",
      "3    Chunichi Dragons   45  1242   500   19   36  0.989   1   \n",
      "4      Hanshin Tigers   46  1252   481   25   29  0.986   0   \n",
      "5  Yokohama Bay Stars   44  1173   501   27   42  0.984   1   \n",
      "6       League Totals  266  7203  2909  123  226  0.988  13   \n",
      "\n",
      "              Managers  \n",
      "0        Takahiro Arai  \n",
      "1       Shinnosuke Abe  \n",
      "2       Shingo Takatsu  \n",
      "3  Kazuyoshi Tatsunami  \n",
      "4        Akinobu Okada  \n",
      "5        Daisuke Miura  \n",
      "6                  NaN  \n"
     ]
    }
   ],
   "source": [
    "LeagueField = r_BR_Central.text\n",
    "LeagueField = LeagueBat.replace (\"!--\",\"\") # replace !-- with \"\" not sure why but strange formatting when inspecting page. \n",
    "dfs = pandas.read_html(StringIO(LeagueField))\n",
    "\n",
    "CLField = dfs[3]\n",
    "del CLField['Aff']\n",
    "del CLField['CG']\n",
    "del CLField['SB']\n",
    "del CLField['CS']\n",
    "del CLField['CS%']\n",
    "del CLField['lgCS%']\n",
    "del CLField['PO.1']\n",
    "del CLField['Attendance']\n",
    "CLField.rename(columns={ CLField.columns[0]: \"Team\" }, inplace = True)\n",
    "print (CLField)"
   ]
  },
  {
   "cell_type": "code",
   "execution_count": 9,
   "id": "653607f7-2da5-4ef0-9f88-7035c811bfc8",
   "metadata": {},
   "outputs": [
    {
     "name": "stdout",
     "output_type": "stream",
     "text": [
      "                 Team     W     L    D    PCT   GB                Team  \\\n",
      "0      Hanshin Tigers  24.0  18.0  4.0  0.571   --     Yakult Swallows   \n",
      "1      Hiroshima Carp  20.0  17.0  4.0  0.541  1.5  Yokohama Bay Stars   \n",
      "2      Yomiuri Giants  22.0  20.0  4.0  0.524    2      Hanshin Tigers   \n",
      "3  Yokohama Bay Stars  21.0  22.0  1.0  0.488  3.5      Hiroshima Carp   \n",
      "4    Chunichi Dragons  18.0  22.0  5.0  0.450    5    Chunichi Dragons   \n",
      "5     Yakult Swallows  18.0  24.0  2.0  0.429    6      Yomiuri Giants   \n",
      "6                 NaN   NaN   NaN  NaN    NaN  NaN       League Totals   \n",
      "\n",
      "   BatAge   R/G    G  ...  SO/W                Team    G    PO     A    E  \\\n",
      "0    28.7  3.66   44  ...  2.56      Hiroshima Carp   41  1112   429   16   \n",
      "1    28.1  3.18   44  ...  2.32      Yomiuri Giants   46  1236   535   17   \n",
      "2    27.7  3.15   46  ...  2.79     Yakult Swallows   44  1188   463   19   \n",
      "3    29.1  2.85   41  ...  2.35    Chunichi Dragons   45  1242   500   19   \n",
      "4    28.1  2.67   45  ...  2.22      Hanshin Tigers   46  1252   481   25   \n",
      "5    28.5  2.41   46  ...  2.25  Yokohama Bay Stars   44  1173   501   27   \n",
      "6    28.4  2.98  266  ...  2.40       League Totals  266  7203  2909  123   \n",
      "\n",
      "    DP   Fld%  PB             Managers  \n",
      "0   28  0.990   3        Takahiro Arai  \n",
      "1   43  0.990   5       Shinnosuke Abe  \n",
      "2   48  0.989   3       Shingo Takatsu  \n",
      "3   36  0.989   1  Kazuyoshi Tatsunami  \n",
      "4   29  0.986   0        Akinobu Okada  \n",
      "5   42  0.984   1        Daisuke Miura  \n",
      "6  226  0.988  13                  NaN  \n",
      "\n",
      "[7 rows x 73 columns]\n"
     ]
    }
   ],
   "source": [
    "CentralData = pandas.concat([Standings, CLBat, CLPitch, CLField], axis=1, sort=False)\n",
    "print (CentralData)"
   ]
  },
  {
   "cell_type": "code",
   "execution_count": 10,
   "id": "0cd653b4-051a-4f40-a1ff-2fed4278d4d6",
   "metadata": {},
   "outputs": [
    {
     "name": "stdout",
     "output_type": "stream",
     "text": [
      "                 Team   W   L  D    PCT   GB  BatAge   R/G   G    PA    AB  \\\n",
      "0      Hanshin Tigers  24  18  4  0.571   --    27.7  3.15  46  1706  1488   \n",
      "1      Hiroshima Carp  20  17  4  0.541  1.5    29.1  2.85  41  1472  1351   \n",
      "2      Yomiuri Giants  22  20  4  0.524    2    28.5  2.41  46  1697  1497   \n",
      "3  Yokohama Bay Stars  21  22  1  0.488  3.5    28.1  3.18  44  1621  1461   \n",
      "4    Chunichi Dragons  18  22  5  0.450    5    28.1  2.67  45  1702  1545   \n",
      "5     Yakult Swallows  18  24  2  0.429    6    28.7  3.66  44  1683  1450   \n",
      "\n",
      "     R    H  2B  3B  HR  RBI  SB  CS   BB   SO     BA    OBP    SLG    OPS  \\\n",
      "0  145  333  50   3  22  142  15   9  158  329  0.224  0.303  0.306  0.609   \n",
      "1  117  321  46   8  19  111  16  21   73  273  0.238  0.283  0.326  0.609   \n",
      "2  111  344  50   7  20  110  25   7  141  317  0.230  0.298  0.313  0.611   \n",
      "3  140  354  69   5  20  137  27  12  118  253  0.242  0.304  0.337  0.642   \n",
      "4  120  370  51   6  19  113  12   7  104  307  0.240  0.289  0.317  0.607   \n",
      "5  161  352  43   3  32  150  19   5  152  313  0.243  0.318  0.343  0.661   \n",
      "\n",
      "    TB  GDP  HB  SH  SF  IBB  \n",
      "0  455   42  16  32  12    6  \n",
      "1  440   29  15  29   4    8  \n",
      "2  468   32   8  42   9   11  \n",
      "3  493   34  16  17   9   15  \n",
      "4  490   24   7  40   6    7  \n",
      "5  497   35  16  48  17   15  \n"
     ]
    }
   ],
   "source": [
    "#Left Join on Bat\n",
    "pandas.options.display.max_columns = None # set max columns to none\n",
    "BatTable = Standings.merge(CLBat, on='Team', how='left')\n",
    "print (BatTable)"
   ]
  },
  {
   "cell_type": "code",
   "execution_count": 11,
   "id": "88b79f1c-336d-467e-a88b-8ffa534fc920",
   "metadata": {},
   "outputs": [
    {
     "name": "stdout",
     "output_type": "stream",
     "text": [
      "                 Team   W   L  D    PCT   GB  PAge   R/G   ERA   RA9   G  GS  \\\n",
      "0      Hanshin Tigers  24  18  4  0.571   --  28.0  2.74  2.22  2.72  46  46   \n",
      "1      Hiroshima Carp  20  17  4  0.541  1.5  27.5  2.39  2.26  2.38  41  41   \n",
      "2      Yomiuri Giants  22  20  4  0.524    2  26.7  2.48  2.32  2.49  46  46   \n",
      "3  Yokohama Bay Stars  21  22  1  0.488  3.5  28.4  3.57  3.20  3.61  44  44   \n",
      "4    Chunichi Dragons  18  22  5  0.450    5  27.0  3.29  2.96  3.22  45  45   \n",
      "5     Yakult Swallows  18  24  2  0.429    6  28.4  3.43  3.25  3.43  44  44   \n",
      "\n",
      "   GF  CG  SHO  SV     IP    H    R   ER  HR   BB  IBB   SO  HB  BK  WP    BF  \\\n",
      "0  43   3    8  15  417.1  354  126  103  16  110   11  307  11   2  12  1702   \n",
      "1  40   1    4  13  370.2  318   98   93  20  116    8  297  19   0   4  1532   \n",
      "2  43   3    9  11  412.0  314  114  106  24  123    5  285  15   1   7  1646   \n",
      "3  44   0    3  15  391.0  355  157  139  27  127    6  286  15   1   6  1633   \n",
      "4  43   2    6  13  414.0  354  148  136  18  136   13  320   8   1   7  1709   \n",
      "5  42   2    4   9  396.0  379  151  143  27  134   19  297  10   0  10  1659   \n",
      "\n",
      "    WHIP   H9  HR9  BB9  SO9  SO/W  \n",
      "0  1.112  7.6  0.3  2.4  6.6  2.79  \n",
      "1  1.171  7.7  0.5  2.8  7.2  2.56  \n",
      "2  1.061  6.9  0.5  2.7  6.2  2.32  \n",
      "3  1.233  8.2  0.6  2.9  6.6  2.25  \n",
      "4  1.184  7.7  0.4  3.0  7.0  2.35  \n",
      "5  1.295  8.6  0.6  3.0  6.8  2.22  \n"
     ]
    }
   ],
   "source": [
    "#Left Join on Pitch\n",
    "pandas.options.display.max_columns = None # set max columns to none\n",
    "del CLPitch['W']\n",
    "del CLPitch['L']\n",
    "del CLPitch['PCT']\n",
    "PitchTable = Standings.merge(CLPitch, on='Team', how='left')\n",
    "print (PitchTable)"
   ]
  },
  {
   "cell_type": "code",
   "execution_count": 12,
   "id": "2c8d1082-16de-4c2f-b40b-fd7cc539b2ce",
   "metadata": {},
   "outputs": [
    {
     "name": "stdout",
     "output_type": "stream",
     "text": [
      "                 Team   W   L  D    PCT   GB   G    PO    A   E  DP   Fld%  \\\n",
      "0      Hanshin Tigers  24  18  4  0.571   --  46  1252  481  25  29  0.986   \n",
      "1      Hiroshima Carp  20  17  4  0.541  1.5  41  1112  429  16  28  0.990   \n",
      "2      Yomiuri Giants  22  20  4  0.524    2  46  1236  535  17  43  0.990   \n",
      "3  Yokohama Bay Stars  21  22  1  0.488  3.5  44  1173  501  27  42  0.984   \n",
      "4    Chunichi Dragons  18  22  5  0.450    5  45  1242  500  19  36  0.989   \n",
      "5     Yakult Swallows  18  24  2  0.429    6  44  1188  463  19  48  0.989   \n",
      "\n",
      "   PB             Managers  \n",
      "0   0        Akinobu Okada  \n",
      "1   3        Takahiro Arai  \n",
      "2   5       Shinnosuke Abe  \n",
      "3   1        Daisuke Miura  \n",
      "4   1  Kazuyoshi Tatsunami  \n",
      "5   3       Shingo Takatsu  \n"
     ]
    }
   ],
   "source": [
    "#Left Join on Field\n",
    "pandas.options.display.max_columns = None # set max columns to none\n",
    "FieldTable = Standings.merge(CLField, on='Team', how='left')\n",
    "print (FieldTable)"
   ]
  },
  {
   "cell_type": "code",
   "execution_count": null,
   "id": "2aa53864-f3be-47d8-907d-e583c40f77c2",
   "metadata": {},
   "outputs": [],
   "source": []
  },
  {
   "cell_type": "code",
   "execution_count": null,
   "id": "90fb2acb-bc39-40ce-b919-2d8d4cf3170f",
   "metadata": {},
   "outputs": [],
   "source": []
  },
  {
   "cell_type": "code",
   "execution_count": null,
   "id": "4dd3f7fc-20e6-4dcf-91b1-493e4a44bb76",
   "metadata": {},
   "outputs": [],
   "source": []
  }
 ],
 "metadata": {
  "kernelspec": {
   "display_name": "Python 3 (ipykernel)",
   "language": "python",
   "name": "python3"
  },
  "language_info": {
   "codemirror_mode": {
    "name": "ipython",
    "version": 3
   },
   "file_extension": ".py",
   "mimetype": "text/x-python",
   "name": "python",
   "nbconvert_exporter": "python",
   "pygments_lexer": "ipython3",
   "version": "3.12.1"
  }
 },
 "nbformat": 4,
 "nbformat_minor": 5
}
