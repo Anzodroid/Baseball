{
 "cells": [
  {
   "cell_type": "code",
   "execution_count": 21,
   "id": "2ba1ea2b-f969-43ed-8a2c-e069097ff280",
   "metadata": {},
   "outputs": [],
   "source": [
    "import requests\n",
    "import pandas\n",
    "import numpy as np\n",
    "from io import StringIO\n",
    "\n",
    "Year = \"2024\""
   ]
  },
  {
   "cell_type": "code",
   "execution_count": 22,
   "id": "2e285d30-b84b-46ab-b608-3d17fd4fc767",
   "metadata": {},
   "outputs": [],
   "source": [
    "#Data Source (Web)\n",
    "r_Roster = requests.get(\"https://npb.jp/bis/eng/teams/rst_g.html\")\n",
    "r_Bat = requests.get(\"http://npb.jp/bis/eng/\"+Year+\"/stats/idb1_g.html\")\n",
    "r_Pitch = requests.get(\"http://npb.jp/bis/eng/\"+Year+\"/stats/idp1_g.html\")\n",
    "r_BR_Giants = requests.get(\"https://www.baseball-reference.com/register/team.cgi?id=e1b4d4c9\")\n",
    "# Note : Baseball Register URLs need to be updated each year. \n",
    "# 2024 https://www.baseball-reference.com/register/league.cgi?id=e62e602d\n",
    "r_BR_Central = requests.get(\"https://www.baseball-reference.com/register/league.cgi?id=4b244907\")\n",
    "# 2024 \"https://www.baseball-reference.com/register/team.cgi?id=8658f55b\""
   ]
  },
  {
   "cell_type": "code",
   "execution_count": 23,
   "id": "51db6ce5-ddf4-450d-a3e8-84c44ce580e4",
   "metadata": {},
   "outputs": [],
   "source": [
    "# CENTRAL BR DATA\n",
    "dfs2 = pandas.read_html(StringIO(r_BR_Central.text))\n",
    "\n"
   ]
  },
  {
   "cell_type": "code",
   "execution_count": 24,
   "id": "fb0180f7-8043-4525-89b3-3bba4b6cad4b",
   "metadata": {},
   "outputs": [
    {
     "name": "stdout",
     "output_type": "stream",
     "text": [
      "[                   Tm   W   L  Ties   W-L%   GB\n",
      "0      Yomiuri Giants  67  45     8  0.598   --\n",
      "1      Hanshin Tigers  60  53     7  0.531  7.5\n",
      "2    Chunichi Dragons  60  55     5  0.522  8.5\n",
      "3  Yokohama Bay Stars  56  58     6  0.491   12\n",
      "4      Hiroshima Carp  52  56    12  0.481   13\n",
      "5     Yakult Swallows  41  69    10  0.373   25]\n"
     ]
    }
   ],
   "source": [
    "print (dfs2)"
   ]
  },
  {
   "cell_type": "code",
   "execution_count": null,
   "id": "8b3f3a08-4546-4a75-90fe-ff134aae8a52",
   "metadata": {},
   "outputs": [],
   "source": [
    "print (Central)"
   ]
  },
  {
   "cell_type": "code",
   "execution_count": 15,
   "id": "0d1ba9d5-17fc-4a76-ada9-d6a25a46a834",
   "metadata": {},
   "outputs": [],
   "source": [
    "string1 = r_BR_Giants.text\n",
    "string1 = string1.replace (\"-->\",\"\")\n",
    "string1 = string1.replace (\"!--\",\"\")\n",
    "\n",
    "string2 = r_BR_Central.text\n",
    "string2 = string2.replace (\"-->\",\"\")\n",
    "string2 = string2.replace (\"!--\",\"\")"
   ]
  },
  {
   "cell_type": "code",
   "execution_count": 16,
   "id": "12e8be86-db9e-482d-b68a-c9353dbef4db",
   "metadata": {},
   "outputs": [],
   "source": [
    "# CENTRAL BR DATA\n",
    "dfs2 = pandas.read_html(StringIO(string2))\n",
    "Standings = dfs2[0]\n",
    "Standings.rename(columns={ Standings.columns[0]: \"Team\" }, inplace = True)\n",
    "Standings.rename(columns={ Standings.columns[4]: \"PCT\" }, inplace = True)\n",
    "\n",
    "CentralBat = dfs2[1]\n",
    "del CentralBat['Aff']\n",
    "CentralBat.rename(columns={ CentralBat.columns[0]: \"Team\" }, inplace = True)\n",
    "CentralBat.rename(columns={ CentralBat.columns[22]: \"HB\" }, inplace = True)\n",
    "\n",
    "CentralPitch= dfs2[2]\n",
    "del CentralPitch['Aff']\n",
    "CentralPitch.rename(columns={ CentralPitch.columns[0]: \"Team\" }, inplace = True)\n",
    "CentralPitch.rename(columns={ CentralPitch.columns[5]: \"PCT\" }, inplace = True)\n",
    "CentralPitch.rename(columns={ CentralPitch.columns[22]: \"HB\" }, inplace = True)\n",
    "\n",
    "CentralField = dfs2[3]\n",
    "del CentralField['Aff']\n",
    "CentralField.rename(columns={ CentralField.columns[0]: \"Team\" }, inplace = True)\n",
    "\n",
    "Central = pandas.concat([CentralBat, CentralPitch, CentralField], axis=1, sort=False)"
   ]
  },
  {
   "cell_type": "code",
   "execution_count": 17,
   "id": "37b9feeb-8778-447b-a7a8-09758a46ffcf",
   "metadata": {},
   "outputs": [
    {
     "name": "stdout",
     "output_type": "stream",
     "text": [
      "                 Team  BatAge   R/G    G     PA     AB     R     H    2B  3B  \\\n",
      "0      Yomiuri Giants    28.6  4.43  120   4519   3994   532  1019   183  16   \n",
      "1      Hiroshima Carp    28.3  4.36  120   4609   4082   523  1069   198  21   \n",
      "2  Yokohama Bay Stars    28.9  4.30  120   4501   4058   516  1078   180  10   \n",
      "3      Hanshin Tigers    28.4  4.12  120   4475   3923   494   965   167  17   \n",
      "4     Yakult Swallows    28.7  3.90  120   4552   3994   468   967   163  13   \n",
      "5    Chunichi Dragons    28.8  3.58  120   4437   3952   429   997   178  18   \n",
      "6       League Totals    28.6  4.11  720  27093  24003  2962  6095  1069  95   \n",
      "\n",
      "   ...   DP   Fld%  PB  SB  CS  CS%  lgCS%  PO.1  Attendance        Managers  \n",
      "0  ...  100  0.990   5 NaN NaN  NaN    NaN   NaN         NaN  Tatsunori Hara  \n",
      "1  ...  106  0.989   9 NaN NaN  NaN    NaN   NaN         NaN   Tsuyoshi Yoda  \n",
      "2  ...  104  0.988   8 NaN NaN  NaN    NaN   NaN         NaN    Alex Ramírez  \n",
      "3  ...   97  0.986   7 NaN NaN  NaN    NaN   NaN         NaN  Shingo Takatsu  \n",
      "4  ...   99  0.984   8 NaN NaN  NaN    NaN   NaN         NaN  Shinji Sasaoka  \n",
      "5  ...  110  0.982   3 NaN NaN  NaN    NaN   NaN         NaN    Akihiro Yano  \n",
      "6  ...  616  0.986  40 NaN NaN  NaN    NaN   NaN         NaN             NaN  \n",
      "\n",
      "[7 rows x 74 columns]\n"
     ]
    }
   ],
   "source": [
    "print (Central)"
   ]
  },
  {
   "cell_type": "code",
   "execution_count": null,
   "id": "46711758-7cc6-4abe-9c4b-6284ee27a683",
   "metadata": {},
   "outputs": [],
   "source": []
  },
  {
   "cell_type": "code",
   "execution_count": null,
   "id": "653607f7-2da5-4ef0-9f88-7035c811bfc8",
   "metadata": {},
   "outputs": [],
   "source": []
  },
  {
   "cell_type": "code",
   "execution_count": null,
   "id": "0cd653b4-051a-4f40-a1ff-2fed4278d4d6",
   "metadata": {},
   "outputs": [],
   "source": []
  }
 ],
 "metadata": {
  "kernelspec": {
   "display_name": "Python 3 (ipykernel)",
   "language": "python",
   "name": "python3"
  },
  "language_info": {
   "codemirror_mode": {
    "name": "ipython",
    "version": 3
   },
   "file_extension": ".py",
   "mimetype": "text/x-python",
   "name": "python",
   "nbconvert_exporter": "python",
   "pygments_lexer": "ipython3",
   "version": "3.12.1"
  }
 },
 "nbformat": 4,
 "nbformat_minor": 5
}
